{
 "cells": [
  {
   "cell_type": "markdown",
   "metadata": {},
   "source": [
    "# DA CheatSheet"
   ]
  },
  {
   "cell_type": "markdown",
   "metadata": {},
   "source": [
    "### 데이터 타입\n",
    "- 수치형 (numeric): 숫자를 이용해 표현할 수 있는 데이터\n",
    "  - 연속형 (continuous): 일정 범위 안에서 어떤 값이든 취할 수 있는 데이터 (구간형, 실수형, 수치형)\n",
    "  - 이산형 (discrete): 횟수와 같은 정수 값만 취할 수 있는 데이터 (목록, 열거, 요인, 명목, 다항)\n",
    "- 범주형 (categorical)\n",
    "  - 이진형 (binary): 두 개의 값 (이항적, 논리형, 지표, 불리언)\n",
    "  - 순서형 (ordinal): 값들 사이에 분명한 순위가 있는 범주형 데이터 (정렬된 요인 데이터)"
   ]
  },
  {
   "cell_type": "markdown",
   "metadata": {},
   "source": [
    "### 위치 추정(통계값)\n",
    "- 평균 (mean)\n",
    "- 가중 평균 (weighted mean)\n",
    "- 중간값 (median)\n",
    "- 백분위수 (percentile): 분위수 (quantile)\n",
    "- 가중 중간값 (weighted median)\n",
    "- 절사평균 (trimmed mean): 극단값을 제외한 나머지 값들의 평균 (절단 평균 (truncated mean))\n",
    "- 로버스트 (robust): 극단값들에 민감하지 않다, 저항성이 있다 (resistant)\n",
    "- 특잇값 (outlier)"
   ]
  },
  {
   "cell_type": "markdown",
   "metadata": {},
   "source": [
    "### 측정값 vs 추정값\n",
    "> 데이터로부터 계사된 값\n",
    "- 추정값 (estimate): 통계, 이론적인 참값 구분, 불확실성 이해, 추측\n",
    "- 측정 지표 (metric): 과학, 비즈니스, 구체적인 목표치, 계측량"
   ]
  },
  {
   "cell_type": "markdown",
   "metadata": {},
   "source": [
    "### 변이 추정\n",
    "- 편차 (deviation)\n",
    "- 분산 (variance)\n",
    "- 표준편자 (standard deviation)\n",
    "- 평균절대편차 (mean absolute deviation): 평균과의 편차의 절댓값의 평균\n",
    "- 중간값의 중위절대편차 (MAD, median absolute deviation from the median): 중간값과의 편차의 절댓값의 중간값\n",
    "- 범위 (range)\n",
    "- 순서통계량 (order statistics)\n",
    "- 백분위수 (perentile)\n",
    "- 사분위범위 (IQR, interquartile range): Q3-Q1\n",
    "- 최빈값 (mode)\n",
    "- 기댓값 (expected value): 범주에 해당하는 어떤 수치가 있을 때, 범주의 출현 확률(probabilty)에 따른 평균\n"
   ]
  },
  {
   "cell_type": "markdown",
   "metadata": {},
   "source": [
    "### 상관관계\n",
    "- 상관계수 (correlation coefficient): 수치적 변수들 간에 어떤 관계가 있는지를 나타내기 위해 사용되는 측정량 (-1 ~ +1)\n",
    "- 상관행렬 (correlation matrix): 행과 열이 변수들을 의미하는 표를 말하며, 각 셀은 그 행과 열에 해당하는 변수들 간의 상관관계를 의미"
   ]
  },
  {
   "cell_type": "markdown",
   "metadata": {},
   "source": [
    "### 데이터 품질\n",
    "- 데이터 과학: 완결성, 형식의 일관성, 깨끗함 및 각 데이터 값의 정확성\n",
    "- 통계: 데이터 과학 + 대표성(representativeness)"
   ]
  },
  {
   "cell_type": "markdown",
   "metadata": {},
   "source": [
    "### 임의표본추출과 표본편향\n",
    "- 표본 (sample): 더 큰 데이터 집합으로부터 얻은 부분집합\n",
    "- 모집단 (popuplation): 어떤 데이터 집합을 구성하는 전체 대상 혹은 전체 집합\n",
    "- N(n): 모집단(표본)의 크기\n",
    "- 임의표본추출(임의표집, 랜덤표본추출) (random sampling): 무작위로 표본을 추출하는 것\n",
    "- 층화표본추출(층화표집) (stratified sampling): 모집단을 층으로 나눈 뒤, 각 층에서 무작위로 표본을 추출하는 것\n",
    "- 계층 (stratum/strata): 공통된 특징을 가진 모집단의 동종 하위 그룹\n",
    "- 단순임의표본(단순랜덤표본) (simple random sample): 모집단 층화 없이 임의표본추출로 얻은 표본\n",
    "- 편향 (bias): 계통상의 오류\n",
    "- 표본편향 (sample bias): 모집단을 잘못 대표하는 표본"
   ]
  },
  {
   "cell_type": "markdown",
   "metadata": {},
   "source": [
    "### 자기선택 표본편향"
   ]
  }
 ],
 "metadata": {
  "language_info": {
   "name": "python"
  },
  "orig_nbformat": 4
 },
 "nbformat": 4,
 "nbformat_minor": 2
}
