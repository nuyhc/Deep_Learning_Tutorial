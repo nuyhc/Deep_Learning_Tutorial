{
 "cells": [
  {
   "cell_type": "markdown",
   "metadata": {},
   "source": [
    "# DA CheatSheet"
   ]
  },
  {
   "cell_type": "markdown",
   "metadata": {},
   "source": [
    "### 데이터 타입\n",
    "- 수치형 (numeric): 숫자를 이용해 표현할 수 있는 데이터\n",
    "  - 연속형 (continuous): 일정 범위 안에서 어떤 값이든 취할 수 있는 데이터 (구간형, 실수형, 수치형)\n",
    "  - 이산형 (discrete): 횟수와 같은 정수 값만 취할 수 있는 데이터 (목록, 열거, 요인, 명목, 다항)\n",
    "- 범주형 (categorical)\n",
    "  - 이진형 (binary): 두 개의 값 (이항적, 논리형, 지표, 불리언)\n",
    "  - 순서형 (ordinal): 값들 사이에 분명한 순위가 있는 범주형 데이터 (정렬된 요인 데이터)"
   ]
  },
  {
   "cell_type": "markdown",
   "metadata": {},
   "source": [
    "### 위치 추정(통계값)\n",
    "- 평균 (mean)\n",
    "- 가중 평균 (weighted mean)\n",
    "- 중간값 (median)\n",
    "- 백분위수 (percentile): 분위수 (quantile)\n",
    "- 가중 중간값 (weighted median)\n",
    "- 절사평균 (trimmed mean): 극단값을 제외한 나머지 값들의 평균 (절단 평균 (truncated mean))\n",
    "- 로버스트 (robust): 극단값들에 민감하지 않다, 저항성이 있다 (resistant)\n",
    "- 특잇값 (outlier)"
   ]
  },
  {
   "cell_type": "markdown",
   "metadata": {},
   "source": [
    "### 측정값 vs 추정값\n",
    "> 데이터로부터 계사된 값\n",
    "- 추정값 (estimate): 통계, 이론적인 참값 구분, 불확실성 이해, 추측\n",
    "- 측정 지표 (metric): 과학, 비즈니스, 구체적인 목표치, 계측량"
   ]
  }
 ],
 "metadata": {
  "language_info": {
   "name": "python"
  },
  "orig_nbformat": 4
 },
 "nbformat": 4,
 "nbformat_minor": 2
}
