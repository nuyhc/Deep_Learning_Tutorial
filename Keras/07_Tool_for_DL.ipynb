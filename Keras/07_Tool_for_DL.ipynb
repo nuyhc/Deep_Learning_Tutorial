{
 "cells": [
  {
   "cell_type": "markdown",
   "metadata": {},
   "source": [
    "# 딥러닝을 위한 고급 도구\n",
    "\n",
    "## 케라스의 함수형 API\n",
    "`Sequential` 모델은 네트워크 입력과 출력이 하나라고 가정  \n"
   ]
  }
 ],
 "metadata": {
  "kernelspec": {
   "display_name": "Python 3.9.12 ('base')",
   "language": "python",
   "name": "python3"
  },
  "language_info": {
   "codemirror_mode": {
    "name": "ipython",
    "version": 3
   },
   "file_extension": ".py",
   "mimetype": "text/x-python",
   "name": "python",
   "nbconvert_exporter": "python",
   "pygments_lexer": "ipython3",
   "version": "3.9.12"
  },
  "orig_nbformat": 4,
  "vscode": {
   "interpreter": {
    "hash": "2adf3ccca9222a21ddf813ce3f7330ff220318730c13c08bb78e423c67466e5c"
   }
  }
 },
 "nbformat": 4,
 "nbformat_minor": 2
}
