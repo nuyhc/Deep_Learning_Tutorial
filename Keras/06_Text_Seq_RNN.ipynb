{
 "cells": [
  {
   "cell_type": "markdown",
   "metadata": {},
   "source": [
    "## 순환 신경망 이해하기\n",
    "지금까지 사용한 신경망의 특징은 메모리가 없다는 것  \n",
    "-> 네트워크에 주입되는 입력은 개별적으로 처리되며 입력 간에 유지되는 상태가 없음  \n",
    "-> 전체 시퀀스를 하나의 데이터 포인트로 변환해야 함  \n",
    "\n",
    "이전에 다뤘던 [IMDB 문제에서](https://nuyhc.github.io/deep%20learning/06_Text_Seq_intro/) 영화 리뷰 하나를 큰 벡터 하나로 변환해 처리  \n",
    "-> 피드포워드 네트워크(feedforward network)  \n",
    "\n",
    "사람이 문장을 읽는 것처럼 이전에 나온 것을 기억하면서 단어별로 또는 한눈에 들어오는 만큼씩 처리 가능  \n",
    "-> 문장에 있는 의미를 자연스럽게 표현하도록 도와줌  \n",
    "-> 극단적으로 단순화시킨 버전이 **순환 신경망(Recurrent Neural Network, RNN)** 임  \n",
    "\n",
    "### RNN\n"
   ]
  }
 ],
 "metadata": {
  "language_info": {
   "name": "python"
  },
  "orig_nbformat": 4
 },
 "nbformat": 4,
 "nbformat_minor": 2
}
