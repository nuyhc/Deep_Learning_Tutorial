{
 "cells": [
  {
   "cell_type": "markdown",
   "metadata": {},
   "source": [
    "# 생성 모델을 위한 딥러닝\n",
    "## LSTM으로 텍스트 생성하기\n",
    "순환 신경망으로 시퀀스 데이터를 생성하는 방법  \n",
    "-> 동일한 기법으로 텍스트뿐만 아니라 음표의 시퀀스 등 다양한 시퀀스 데이터를 생성 가능  \n",
    "\n",
    "### 생성 RNN"
   ]
  },
  {
   "cell_type": "markdown",
   "metadata": {},
   "source": [
    "## 딥드림"
   ]
  },
  {
   "cell_type": "markdown",
   "metadata": {},
   "source": [
    "## 뉴럴 스타일 트랜스퍼"
   ]
  },
  {
   "cell_type": "markdown",
   "metadata": {},
   "source": [
    "## 변이형 오토인토더를 사용한 이미지 생성"
   ]
  },
  {
   "cell_type": "markdown",
   "metadata": {},
   "source": [
    "## 적대적 생성 신경망"
   ]
  }
 ],
 "metadata": {
  "kernelspec": {
   "display_name": "Python 3.9.13 ('tensor')",
   "language": "python",
   "name": "python3"
  },
  "language_info": {
   "name": "python",
   "version": "3.9.13"
  },
  "orig_nbformat": 4,
  "vscode": {
   "interpreter": {
    "hash": "cb2bcb1c2ebb90b367d5a8d04364bd69bb4cb2fbfe4a2e1d43ce6a6b227bb280"
   }
  }
 },
 "nbformat": 4,
 "nbformat_minor": 2
}
