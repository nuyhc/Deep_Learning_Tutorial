{
 "cells": [
  {
   "cell_type": "markdown",
   "metadata": {},
   "source": [
    "# 텍스트와 시퀀스를 위한 딥러닝\n",
    "텍스트(단어의 시퀀스 또는 문자의 시퀀스), 시계열 또는 일반적인 시퀀스(sequence) 데이터를 처리할 수 있는 딥러닝 모델  \n",
    "- 순환 신경망(RNN, Recurrent Neural Network)\n",
    "- Conv1D (1D 컨브넷)\n",
    "\n",
    "## 텍스트 데이터 다루기\n",
    "컴퓨터 비전이 픽셀에 적용한 패턴 인식(pattern recognition)인 것처럼, 자연어 처리(NLP)를 위한 딥러닝은 단어, 문장, 문단에 적용한 패턴 인식\n",
    "\n",
    "텍스트 원본을 입력으로 사용하지 못하므로, 수치형 텐서로 변환하는 과정을 **텍스트 벡터화(vectorizing text)** 라고 함  \n",
    "1. 텍스트 -> 단어 -> 벡터화\n",
    "2. 텍스트 -> 문자 -> 벡터화\n",
    "3. 텍스트 -> 단어 or 문자 -> n-gram 추출 -> 벡터화\n",
    "\n",
    "텍스트를 나누는 단위(단어, 문자, n-gram)를 **토큰(token)** 이라 함  \n",
    "-> 텍스트를 토큰으로 나누는 작업을 **토큰화(tokenization)** 라고 함  \n",
    "- 원-핫 인코딩(one-hot encoding)\n",
    "- 토큰 임베딩(token embeding)\n",
    "\n",
    "### n-gram과 BoW"
   ]
  }
 ],
 "metadata": {
  "kernelspec": {
   "display_name": "Python 3.8.13 ('dgdg')",
   "language": "python",
   "name": "python3"
  },
  "language_info": {
   "name": "python",
   "version": "3.8.13"
  },
  "orig_nbformat": 4,
  "vscode": {
   "interpreter": {
    "hash": "2076adaa342e4728b5f632fbf189c39b5d1811ef76d2fb06a694f637be620194"
   }
  }
 },
 "nbformat": 4,
 "nbformat_minor": 2
}
