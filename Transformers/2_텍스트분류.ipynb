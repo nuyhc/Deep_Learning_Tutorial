{
 "cells": [
  {
   "attachments": {},
   "cell_type": "markdown",
   "metadata": {},
   "source": [
    "# 트랜스포머를 활용한 자연어 처리\n",
    "# Chapter 2. 텍스트 분류\n",
    "- 텍스트 분류는 NLP에서 매우 일반적인 작업\n",
    "- 고객 피드백을 여러 카테고리로 분류하거나 언어에 따라 고객 지원 요청 티켓을 전달하는 등 매우 다양한 애플리케이션에 사용\n",
    "- 감성 분석, 주어진 텍스트의 감정 상태를 식별하는 것이 목적\n",
    "- `DistilBERT`\n",
    "- 대규모 BERT 모델을 훈련해야 한다면 간단히 사전 훈련된 모델의 체크포인트(checkpoint)를 바꾸면 됨\n",
    "- 체크포인트란 트랜스포머 아키텍처로 도르되는 일련의 가중치\n",
    "\n",
    "### 트랜스포머를 훈련하는 전형적인 파이프라인\n",
    "- 데이터셋 -> 토크나이저 -> 트랜스포머 -> 데이터셋\n",
    "- 데이터셋 로드, 전처리 -> 토큰화 -> 모델 로드, 훈련, 추론 -> 측정 도구 로드, 모델 평가\n",
    "\n",
    "## 2.1 데이터셋\n",
    "- 영어로 작성된 트위터 메시지에 감정이 어떻게 표현되는지 연구한 논문 데이터 셋 (6가지 감정)\n",
    "### 2.1.1 허깅페이스 데이터셋\n"
   ]
  }
 ],
 "metadata": {
  "kernelspec": {
   "display_name": "NN",
   "language": "python",
   "name": "python3"
  },
  "language_info": {
   "codemirror_mode": {
    "name": "ipython",
    "version": 3
   },
   "file_extension": ".py",
   "mimetype": "text/x-python",
   "name": "python",
   "nbconvert_exporter": "python",
   "pygments_lexer": "ipython3",
   "version": "3.9.15"
  },
  "orig_nbformat": 4
 },
 "nbformat": 4,
 "nbformat_minor": 2
}
