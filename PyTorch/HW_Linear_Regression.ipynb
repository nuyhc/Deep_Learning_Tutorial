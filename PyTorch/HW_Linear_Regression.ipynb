{
 "cells": [
  {
   "cell_type": "markdown",
   "metadata": {},
   "source": [
    "# Linear Regression 구현\n",
    "## 최소 자승법"
   ]
  },
  {
   "cell_type": "code",
   "execution_count": 27,
   "metadata": {},
   "outputs": [
    {
     "name": "stdout",
     "output_type": "stream",
     "text": [
      "y = 0.25x + 1.75\n"
     ]
    }
   ],
   "source": [
    "from numpy import array, mean, sum\n",
    "\n",
    "# data\n",
    "x = array([0, 1, 2])\n",
    "y = array([1, 3, 2])\n",
    "n = len(x)\n",
    "\n",
    "xsum = sum(x)\n",
    "ysum = sum(y)\n",
    "xmean = mean(x)\n",
    "ymean = mean(y)\n",
    "xysum = 0\n",
    "x2sum = 0\n",
    "\n",
    "for i in range(n):\n",
    "    xysum = xysum + x[i] * y[i]\n",
    "    x2sum = x2sum + x[i] * y[i]\n",
    "    \n",
    "a = (n*xysum - xsum*ysum) / (n*x2sum - xsum**2)\n",
    "b = ymean - a*xmean\n",
    "\n",
    "print(f\"y = {a}x + {b}\")"
   ]
  },
  {
   "cell_type": "code",
   "execution_count": 29,
   "metadata": {},
   "outputs": [
    {
     "data": {
      "image/png": "[encoded data removed]",
      "text/plain": [
       "<Figure size 432x288 with 1 Axes>"
      ]
     },
     "metadata": {
      "needs_background": "light"
     },
     "output_type": "display_data"
    }
   ],
   "source": [
    "import matplotlib.pyplot as plt\n",
    "\n",
    "plt.plot(x, y)\n",
    "plt.plot(x, [a*x+b for x in x])\n",
    "plt.show()"
   ]
  },
  {
   "cell_type": "markdown",
   "metadata": {},
   "source": [
    "## 다항식 회귀법\n",
    "$y=ax^2+bx+c$ 근사"
   ]
  },
  {
   "cell_type": "code",
   "execution_count": 30,
   "metadata": {},
   "outputs": [
    {
     "name": "stdout",
     "output_type": "stream",
     "text": [
      "a=0.11363636363636433\n",
      "b=2.986363636363634\n",
      "c=246.91363636363687\n"
     ]
    }
   ],
   "source": [
    "from numpy import linspace\n",
    "from numpy.linalg import det\n",
    "\n",
    "# data\n",
    "x = array([0, 1, 2, 4])\n",
    "y = array([2, 3, 9, 15])\n",
    "n = len(x)\n",
    "\n",
    "x1sm = sum(x)\n",
    "y1sm = sum(y)\n",
    "x2sm = sum(x**2)\n",
    "x3sm = sum(x**3)\n",
    "x4sm = sum(x**4)\n",
    "xysm = sum(x*y)\n",
    "x2ysm = sum((x**2)*y)\n",
    "\n",
    "# Cramer's Rule\n",
    "eq = array([\n",
    "    [x2sm, x3sm, x4sm],\n",
    "    [x1sm, x2sm, x3sm],\n",
    "    [n, x1sm, x2sm]\n",
    "    ])\n",
    "rig = array([x2ysm, xysum, y1sm])\n",
    "detabc = det(eq)\n",
    "eqc = array([[x2ysm, x2ysm, x4sm],\n",
    "             [x1sm, xysm, x3sm],\n",
    "             [n, y1sm, x2sm]])\n",
    "eqb = array([[x2sm, x2ysm, x4sm],\n",
    "             [x1sm, xysm, x3sm],\n",
    "             [n, y1sm, x2sm]])\n",
    "eqa = array([[x2sm, x3sm, x2ysm],\n",
    "             [x1sm, x2sm, xysm],\n",
    "             [n, x1sm, y1sm]])\n",
    "\n",
    "detc = det(eqc)\n",
    "detb = det(eqb)\n",
    "deta = det(eqa)\n",
    "a = deta/detabc\n",
    "b = detb/detabc\n",
    "c = detc/detabc\n",
    "\n",
    "print(f\"a={a}\\nb={b}\\nc={c}\")"
   ]
  },
  {
   "cell_type": "code",
   "execution_count": 32,
   "metadata": {},
   "outputs": [
    {
     "data": {
      "image/png": "[encoded data removed]",
      "text/plain": [
       "<Figure size 432x288 with 1 Axes>"
      ]
     },
     "metadata": {
      "needs_background": "light"
     },
     "output_type": "display_data"
    }
   ],
   "source": [
    "plt.plot(x, y)\n",
    "plt.plot(x, [a*(x**2)+b*x+c for x in x])\n",
    "plt.show()"
   ]
  },
  {
   "cell_type": "markdown",
   "metadata": {},
   "source": [
    "## Simple Regression Problem\n",
    "$y = a + bx + \\epsilon$"
   ]
  },
  {
   "cell_type": "code",
   "execution_count": 33,
   "metadata": {},
   "outputs": [],
   "source": [
    "import numpy as np\n",
    "\n",
    "# 랜덤한 초기 데이터 생성\n",
    "x = np.random.rand(100, 1)\n",
    "y = 1 + 2 * x + .1 * np.random.randn(100, 1)\n",
    "\n",
    "idx = np.arange(100)\n",
    "np.random.shuffle(idx)\n",
    "\n",
    "train_idx = idx[:80]\n",
    "val_idx = idx[80:]\n",
    "\n",
    "x_train, y_train = x[train_idx], y[train_idx]\n",
    "x_val, y_val = x[val_idx], y[val_idx]"
   ]
  },
  {
   "cell_type": "code",
   "execution_count": 37,
   "metadata": {},
   "outputs": [
    {
     "data": {
      "image/png": "[encoded data removed]",
      "text/plain": [
       "<Figure size 432x288 with 2 Axes>"
      ]
     },
     "metadata": {
      "needs_background": "light"
     },
     "output_type": "display_data"
    }
   ],
   "source": [
    "plt.subplot(121)\n",
    "plt.scatter(x_train, y_train)\n",
    "plt.subplot(122)\n",
    "plt.scatter(x_val, y_val)\n",
    "plt.show()"
   ]
  },
  {
   "cell_type": "markdown",
   "metadata": {},
   "source": [
    "## Gradient Descent\n",
    "1. Loss 계산\n",
    "2. 변화율(Gradient) 계산\n",
    "3. 파라미터 갱신"
   ]
  },
  {
   "cell_type": "code",
   "execution_count": 40,
   "metadata": {},
   "outputs": [
    {
     "name": "stdout",
     "output_type": "stream",
     "text": [
      "초기 가중치: a=[1.08482552], b=[-1.44885791]\n",
      "구현한 가중치: a=[1.002573], b=[1.9796799]\n",
      "구현된 방식을 이용해 구한 가중치: a=[1.00255179], b=[1.97971745]\n"
     ]
    }
   ],
   "source": [
    "# 랜덤하게 초기 가중치 부여\n",
    "a = np.random.randn(1)\n",
    "b = np.random.randn(1)\n",
    "\n",
    "print(f\"초기 가중치: a={a}, b={b}\")\n",
    "\n",
    "lr = 1e-1\n",
    "n_epochs = 1000\n",
    "\n",
    "for epoch in range(n_epochs):\n",
    "    yhat = a + b * x_train\n",
    "    \n",
    "    error = (y_train - yhat)\n",
    "    # MSE\n",
    "    loss = (error ** 2).mean()\n",
    "    \n",
    "    # 역전파\n",
    "    a_grad = -2 * error.mean()\n",
    "    b_grad = -2 * (x_train * error).mean()\n",
    "    \n",
    "    # 가중치 갱신\n",
    "    a = a - lr * a_grad\n",
    "    b = b - lr * b_grad\n",
    "    \n",
    "print(f\"구현한 가중치: a={a}, b={b}\")\n",
    "\n",
    "# 실제값과 비교\n",
    "from sklearn.linear_model import LinearRegression\n",
    "linr = LinearRegression()\n",
    "linr.fit(x_train, y_train)\n",
    "print(f\"구현된 방식을 이용해 구한 가중치: a={linr.intercept_}, b={linr.coef_[0]}\")"
   ]
  },
  {
   "cell_type": "code",
   "execution_count": 49,
   "metadata": {},
   "outputs": [
    {
     "data": {
      "image/png": "[encoded data removed]",
      "text/plain": [
       "<Figure size 432x288 with 1 Axes>"
      ]
     },
     "metadata": {
      "needs_background": "light"
     },
     "output_type": "display_data"
    }
   ],
   "source": [
    "plt.scatter(x_train, y_train)\n",
    "plt.plot(x, [a*x+b for x in x])\n",
    "plt.title(\"실제값과 근사한 함수\")\n",
    "plt.show()"
   ]
  },
  {
   "cell_type": "code",
   "execution_count": 51,
   "metadata": {},
   "outputs": [
    {
     "data": {
      "image/png": "[encoded data removed]",
      "text/plain": [
       "<Figure size 432x288 with 1 Axes>"
      ]
     },
     "metadata": {
      "needs_background": "light"
     },
     "output_type": "display_data"
    }
   ],
   "source": [
    "plt.scatter(x_train, y_train)\n",
    "plt.plot(x, [linr.intercept_*x+linr.coef_[0] for x in x])\n",
    "plt.title(\"실제값과 실제 회귀 함수\")\n",
    "plt.show()"
   ]
  }
 ],
 "metadata": {
  "kernelspec": {
   "display_name": "Python 3.9.12 ('tf')",
   "language": "python",
   "name": "python3"
  },
  "language_info": {
   "codemirror_mode": {
    "name": "ipython",
    "version": 3
   },
   "file_extension": ".py",
   "mimetype": "text/x-python",
   "name": "python",
   "nbconvert_exporter": "python",
   "pygments_lexer": "ipython3",
   "version": "3.9.12"
  },
  "orig_nbformat": 4,
  "vscode": {
   "interpreter": {
    "hash": "0dda229299321da99d0dbf63d1fbc8b04ca069326b7e356b1394d150d10bd532"
   }
  }
 },
 "nbformat": 4,
 "nbformat_minor": 2
}
