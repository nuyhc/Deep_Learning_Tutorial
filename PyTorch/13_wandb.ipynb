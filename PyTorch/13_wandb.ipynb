{
 "cells": [
  {
   "cell_type": "markdown",
   "metadata": {},
   "source": [
    "# Wandb\n",
    "머신러닝 실험 관리를 더 편하게 도와주는 툴  \n",
    "\n",
    "### Model Experiment Pipeline\n",
    "1. 디자인\n",
    "2. 실험하고 개발하는 단계\n",
    "3. 배포하고 운영하는 단계\n",
    "\n",
    "#### 필수 구성 요소(Configuration)\n",
    "- Dataset\n",
    "- Metric\n",
    "- Model\n",
    "- Hyper-parameter\n",
    "\n",
    "#### 모델 실험\n",
    "머신러닝 혹은 딥러닝 모델을 학습할 때, configuration 값을 적절하게 선택해야 함  \n",
    "- 하이퍼파라미터를 변경하고, 성능을 체크하는 방식은 비효율적\n",
    "- 기록 누락의 가능성\n",
    "- 정리 과정이 복잡함\n",
    "\n",
    "### WandB (Weights & Bias)\n",
    "더 나은 모델을 빨리 만들 수 있도록 도와주는 머신러닝 실험 추적 툴\n",
    "#### 주요 기능\n",
    "![img](https://1039519455-files.gitbook.io/~/files/v0/b/gitbook-legacy-files/o/assets%2F-Lqya5RvLedGEWPhtkjU%2F-MjWyygstFtfMrBD1N_X%2F-MjWzA_zt-9vgPF0IXgn%2FW%26B%20Diagram%20-%2020210913.png?alt=media&token=4ef27c1e-dc8b-43cf-9435-99ba770bc42d)\n",
    "\n",
    "1. Experiments : 모델 실험을 추적하기 위한 대시보드 제공\n",
    "2. Artifacts : Dataset과 모델 버전 관리\n",
    "3. Tables : 데이터를 로깅해 시각화하고 쿼리하는데 사용\n",
    "4. Sweeps : 하이퍼파라미터를 자동으로 튜닝해 최적화\n",
    "5. Reports : 실험을 문서로 정리해 공유"
   ]
  },
  {
   "cell_type": "code",
   "execution_count": 1,
   "metadata": {},
   "outputs": [],
   "source": [
    "import wandb"
   ]
  },
  {
   "cell_type": "code",
   "execution_count": 2,
   "metadata": {},
   "outputs": [
    {
     "name": "stderr",
     "output_type": "stream",
     "text": [
      "Failed to detect the name of this notebook, you can set it manually with the WANDB_NOTEBOOK_NAME environment variable to enable code saving.\n",
      "\u001b[34m\u001b[1mwandb\u001b[0m: Logging into wandb.ai. (Learn how to deploy a W&B server locally: https://wandb.me/wandb-server)\n",
      "\u001b[34m\u001b[1mwandb\u001b[0m: You can find your API key in your browser here: https://wandb.ai/authorize\n",
      "\u001b[34m\u001b[1mwandb\u001b[0m: Paste an API key from your profile and hit enter, or press ctrl+c to quit:\u001b[34m\u001b[1mwandb\u001b[0m: Appending key for api.wandb.ai to your netrc file: C:\\Users\\spec3/.netrc\n"
     ]
    },
    {
     "data": {
      "text/plain": [
       "True"
      ]
     },
     "execution_count": 2,
     "metadata": {},
     "output_type": "execute_result"
    }
   ],
   "source": [
    "# login\n",
    "wandb.login()"
   ]
  },
  {
   "cell_type": "code",
   "execution_count": 2,
   "metadata": {},
   "outputs": [],
   "source": [
    "# config setting\n",
    "config  = {\n",
    "    'epochs': 5,\n",
    "    'classes':10,\n",
    "    'batch_size': 128,\n",
    "    'kernels': [16, 32],\n",
    "    'weight_decay': 0.0005,\n",
    "    'learning_rate': 1e-3,\n",
    "    'dataset': 'MNIST',\n",
    "    'architecture': 'CNN',\n",
    "    'seed': 42\n",
    "    }"
   ]
  },
  {
   "cell_type": "code",
   "execution_count": 9,
   "metadata": {},
   "outputs": [],
   "source": [
    "import torch\n",
    "import torchvision\n",
    "import torch.nn as nn\n",
    "from torchvision import datasets\n",
    "from torch.utils.data import DataLoader\n",
    "import torch.optim as optim"
   ]
  },
  {
   "cell_type": "code",
   "execution_count": 7,
   "metadata": {},
   "outputs": [],
   "source": [
    "# dataset\n",
    "def make_loader(batch_size, train=True):\n",
    "    full_dataset = datasets.MNIST(root='./data/MNIST', train=train,\n",
    "                                    download=True,  transform=transforms.ToTensor())\n",
    "\n",
    "    loader = DataLoader(dataset=full_dataset,\n",
    "                        batch_size=batch_size,\n",
    "                        shuffle=True,\n",
    "                        pin_memory=True, num_workers=2)\n",
    "    return loader"
   ]
  },
  {
   "cell_type": "code",
   "execution_count": 8,
   "metadata": {},
   "outputs": [],
   "source": [
    "# model\n",
    "class ConvNet(nn.Module):\n",
    "    def __init__(self, kernels, classes=10):\n",
    "        super(ConvNet, self).__init__()\n",
    "\n",
    "        self.layer1 = nn.Sequential(\n",
    "            nn.Conv2d(1, kernels[0], kernel_size=5, stride=1, padding=2),\n",
    "            nn.ReLU(),\n",
    "            nn.MaxPool2d(kernel_size=2, stride=2))\n",
    "        self.layer2 = nn.Sequential(\n",
    "            nn.Conv2d(16, kernels[1], kernel_size=5, stride=1, padding=2),\n",
    "            nn.ReLU(),\n",
    "            nn.MaxPool2d(kernel_size=2, stride=2))\n",
    "        self.fc = nn.Linear(7 * 7 * kernels[-1], classes)\n",
    "\n",
    "    def forward(self, x):\n",
    "        out = self.layer1(x)\n",
    "        out = self.layer2(out)\n",
    "        out = out.reshape(out.size(0), -1)\n",
    "        out = self.fc(out)\n",
    "        return out"
   ]
  },
  {
   "cell_type": "code",
   "execution_count": 10,
   "metadata": {},
   "outputs": [],
   "source": [
    "# train\n",
    "def train(model, loader, criterion, optimizer, config):\n",
    "    wandb.watch(model, criterion, log=\"all\", log_freq=10)\n",
    "\n",
    "    example_ct = 0\n",
    "    for epoch in tqdm(range(config.epochs)):\n",
    "        cumu_loss = 0\n",
    "        for images, labels in loader:\n",
    "\n",
    "            images, labels = images.to(device), labels.to(device)\n",
    "\n",
    "            outputs = model(images)\n",
    "            loss = criterion(outputs, labels)\n",
    "            cumu_loss += loss.item()\n",
    "\n",
    "            optimizer.zero_grad()\n",
    "            loss.backward()\n",
    "\n",
    "            optimizer.step()\n",
    "\n",
    "            example_ct +=  len(images)\n",
    "\n",
    "        avg_loss = cumu_loss / len(loader)\n",
    "        wandb.log({\"loss\": avg_loss}, step=epoch)\n",
    "        print(f\"TRAIN: EPOCH {epoch + 1:04d} / {config.epochs:04d} | Epoch LOSS {avg_loss:.4f}\")"
   ]
  },
  {
   "cell_type": "code",
   "execution_count": 11,
   "metadata": {},
   "outputs": [],
   "source": [
    "# run\n",
    "def run(config=None):\n",
    "    wandb.init(project='test-pytorch', entity='pebpung', config=config)\n",
    "\n",
    "    config = wandb.config\n",
    "\n",
    "    train_loader = make_loader(batch_size=config.batch_size, train=True)\n",
    "    test_loader = make_loader(batch_size=config.batch_size, train=False)\n",
    "\n",
    "    model = ConvNet(config.kernels, config.classes).to(device)\n",
    "    criterion = nn.CrossEntropyLoss()\n",
    "    optimizer = torch.optim.Adam(model.parameters(), lr=config.learning_rate)\n",
    "\n",
    "    train(model, train_loader, criterion, optimizer, config)\n",
    "    test(model, test_loader)\n",
    "    return model"
   ]
  }
 ],
 "metadata": {
  "kernelspec": {
   "display_name": "Python 3.9.12 ('Deep')",
   "language": "python",
   "name": "python3"
  },
  "language_info": {
   "codemirror_mode": {
    "name": "ipython",
    "version": 3
   },
   "file_extension": ".py",
   "mimetype": "text/x-python",
   "name": "python",
   "nbconvert_exporter": "python",
   "pygments_lexer": "ipython3",
   "version": "3.9.12"
  },
  "orig_nbformat": 4,
  "vscode": {
   "interpreter": {
    "hash": "74cb2441972c5e2ce4d81cf164d964ef294956299a0f54ad32355ca0ab9e0fa7"
   }
  }
 },
 "nbformat": 4,
 "nbformat_minor": 2
}
