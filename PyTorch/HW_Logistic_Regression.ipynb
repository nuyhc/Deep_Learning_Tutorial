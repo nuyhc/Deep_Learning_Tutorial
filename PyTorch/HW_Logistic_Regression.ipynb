{
 "cells": [
  {
   "cell_type": "markdown",
   "metadata": {},
   "source": [
    "# Logistic Regression 구현하기"
   ]
  },
  {
   "cell_type": "code",
   "execution_count": 2,
   "metadata": {},
   "outputs": [],
   "source": [
    "import numpy as np\n",
    "import matplotlib.pyplot as plt\n",
    "\n",
    "import torch\n",
    "import torch.nn as nn\n",
    "import torch.nn.functional as F"
   ]
  },
  {
   "cell_type": "markdown",
   "metadata": {},
   "source": [
    "## Data"
   ]
  },
  {
   "cell_type": "code",
   "execution_count": 3,
   "metadata": {},
   "outputs": [],
   "source": [
    "np.random.seed(42)\n",
    "\n",
    "train_X = np.random.randn(1000)\n",
    "train_X[:500] = train_X[:500] + 4\n",
    "train_y = np.array([1]*500 + [0]*500)\n",
    "\n",
    "ids = np.arange(1000)\n",
    "np.random.shuffle(ids)\n",
    "train_X = train_X[ids]\n",
    "train_y = train_y[ids]"
   ]
  },
  {
   "cell_type": "code",
   "execution_count": 4,
   "metadata": {},
   "outputs": [
    {
     "data": {
      "image/png": "[encoded data removed]",
      "text/plain": [
       "<Figure size 432x288 with 1 Axes>"
      ]
     },
     "metadata": {
      "needs_background": "light"
     },
     "output_type": "display_data"
    }
   ],
   "source": [
    "_ = plt.scatter(train_X, train_y)"
   ]
  },
  {
   "cell_type": "markdown",
   "metadata": {},
   "source": [
    "## Implement"
   ]
  },
  {
   "cell_type": "code",
   "execution_count": 5,
   "metadata": {},
   "outputs": [
    {
     "name": "stdout",
     "output_type": "stream",
     "text": [
      "Early w: tensor([0.], requires_grad=True), b: tensor([0.], requires_grad=True)\n"
     ]
    }
   ],
   "source": [
    "# reset 0 weights, bias\n",
    "w = torch.zeros(1, requires_grad=True)\n",
    "b = torch.zeros(1, requires_grad=True)\n",
    "print(f\"Early w: {w}, b: {b}\")"
   ]
  },
  {
   "cell_type": "code",
   "execution_count": 6,
   "metadata": {},
   "outputs": [],
   "source": [
    "# optimizer - 확률적 경사 하강법\n",
    "optimizer = torch.optim.SGD([w, b], lr=0.2)"
   ]
  },
  {
   "cell_type": "code",
   "execution_count": 7,
   "metadata": {},
   "outputs": [],
   "source": [
    "train_X, train_y = torch.FloatTensor(train_X), torch.FloatTensor(train_y)"
   ]
  },
  {
   "cell_type": "code",
   "execution_count": 8,
   "metadata": {},
   "outputs": [
    {
     "name": "stdout",
     "output_type": "stream",
     "text": [
      "Epochs:     0 - Loss: 0.69315\n",
      "Epochs:   100 - Loss: 0.15076\n",
      "Epochs:   200 - Loss: 0.10955\n",
      "Epochs:   300 - Loss: 0.09282\n",
      "Epochs:   400 - Loss: 0.08355\n",
      "Epochs:   500 - Loss: 0.07758\n",
      "Epochs:   600 - Loss: 0.07339\n",
      "Epochs:   700 - Loss: 0.07027\n",
      "Epochs:   800 - Loss: 0.06786\n",
      "Epochs:   900 - Loss: 0.06592\n",
      "Epochs:  1000 - Loss: 0.06434\n"
     ]
    }
   ],
   "source": [
    "# Approximation\n",
    "e, l = [], []\n",
    "for epoch in range(1001):\n",
    "    # Loss - binary cross entropy\n",
    "    appr = torch.sigmoid(w*train_X+b)\n",
    "    loss = F.binary_cross_entropy(appr, train_y)\n",
    "    # Updates Params\n",
    "    optimizer.zero_grad()\n",
    "    loss.backward()\n",
    "    optimizer.step()\n",
    "    # Print and Collect Log\n",
    "    e.append(epoch)\n",
    "    l.append(loss.detach().numpy())\n",
    "    if epoch%100==0:\n",
    "        print(f\"Epochs: {epoch:5d} - Loss: {loss:.5f}\")"
   ]
  },
  {
   "cell_type": "code",
   "execution_count": 9,
   "metadata": {},
   "outputs": [
    {
     "data": {
      "image/png": "[encoded data removed]",
      "text/plain": [
       "<Figure size 432x288 with 1 Axes>"
      ]
     },
     "metadata": {
      "needs_background": "light"
     },
     "output_type": "display_data"
    }
   ],
   "source": [
    "plt.plot(e, l)\n",
    "plt.title(\"Epochs - Loss\")\n",
    "plt.show()"
   ]
  },
  {
   "cell_type": "code",
   "execution_count": 10,
   "metadata": {},
   "outputs": [
    {
     "name": "stdout",
     "output_type": "stream",
     "text": [
      "After Approximate w: tensor([2.6216], requires_grad=True), b: tensor([-5.1346], requires_grad=True)\n"
     ]
    }
   ],
   "source": [
    "print(f\"After Approximate w: {w}, b: {b}\")"
   ]
  },
  {
   "cell_type": "code",
   "execution_count": 11,
   "metadata": {},
   "outputs": [
    {
     "data": {
      "image/png": "[encoded data removed]",
      "text/plain": [
       "<Figure size 432x288 with 1 Axes>"
      ]
     },
     "metadata": {
      "needs_background": "light"
     },
     "output_type": "display_data"
    }
   ],
   "source": [
    "plt.scatter(train_X, train_y)\n",
    "plt.scatter(train_X, appr.detach().numpy())\n",
    "plt.show()"
   ]
  },
  {
   "cell_type": "markdown",
   "metadata": {},
   "source": [
    "## 서포터님이 구현한 방식"
   ]
  },
  {
   "cell_type": "code",
   "execution_count": 12,
   "metadata": {},
   "outputs": [],
   "source": [
    "# Reference: https://smwgood.tistory.com/6\n",
    "\n",
    "from torch.autograd import Function\n",
    "\n",
    "class Sigmoid(Function):\n",
    "\n",
    "    @staticmethod\n",
    "    def forward(ctx, logits):\n",
    "        probs = 1 / (1 + torch.exp(-logits))\n",
    "        ctx.save_for_backward(probs)\n",
    "        return probs\n",
    "\n",
    "    @staticmethod\n",
    "    def backward(ctx, *grad_outputs):\n",
    "        probs, = ctx.saved_tensors\n",
    "        return probs * (1-probs)\n",
    "\n",
    "\n",
    "class CrossEntropyWithLogits(Function):\n",
    "\n",
    "    @staticmethod\n",
    "    def forward(ctx, logits, targets):\n",
    "        probs = 1 / (1 + torch.exp(-logits))\n",
    "        ctx.save_for_backward(probs, targets)\n",
    "        return -( targets*torch.log(probs) + (1-targets)*torch.log(1-probs) ).mean()\n",
    "\n",
    "    @staticmethod\n",
    "    def backward(ctx, *grad_outputs):\n",
    "        probs, targets = ctx.saved_tensors\n",
    "        grad_input = probs - targets\n",
    "        return grad_input, None"
   ]
  },
  {
   "cell_type": "code",
   "execution_count": 13,
   "metadata": {},
   "outputs": [
    {
     "data": {
      "text/plain": [
       "(tensor([-0.0578, -0.2759,  1.4966, -1.6991,  0.7557,  0.5992,  1.1118, -0.6826,\n",
       "          0.1755, -0.0991], requires_grad=True),\n",
       " tensor([0, 0, 1, 0, 0, 1, 1, 1, 0, 1]))"
      ]
     },
     "execution_count": 13,
     "metadata": {},
     "output_type": "execute_result"
    }
   ],
   "source": [
    "logits  = torch.randn(10, requires_grad=True)\n",
    "targets = (torch.rand(10) > 0.5).to(dtype=torch.long)\n",
    "logits, targets"
   ]
  },
  {
   "cell_type": "code",
   "execution_count": 14,
   "metadata": {},
   "outputs": [],
   "source": [
    "sigmoid = Sigmoid.apply\n",
    "cross_entropy_with_logits = CrossEntropyWithLogits.apply"
   ]
  },
  {
   "cell_type": "code",
   "execution_count": 15,
   "metadata": {},
   "outputs": [
    {
     "data": {
      "text/plain": [
       "tensor([0.4855, 0.4315, 0.8171, 0.1546, 0.6804, 0.6455, 0.7525, 0.3357, 0.5438,\n",
       "        0.4752], grad_fn=<SigmoidBackward>)"
      ]
     },
     "execution_count": 15,
     "metadata": {},
     "output_type": "execute_result"
    }
   ],
   "source": [
    "probs = sigmoid(logits)\n",
    "probs"
   ]
  },
  {
   "cell_type": "code",
   "execution_count": 16,
   "metadata": {},
   "outputs": [
    {
     "data": {
      "text/plain": [
       "tensor(0.6082, grad_fn=<CrossEntropyWithLogitsBackward>)"
      ]
     },
     "execution_count": 16,
     "metadata": {},
     "output_type": "execute_result"
    }
   ],
   "source": [
    "loss = cross_entropy_with_logits(logits, targets)\n",
    "loss"
   ]
  },
  {
   "cell_type": "code",
   "execution_count": 18,
   "metadata": {},
   "outputs": [
    {
     "name": "stdout",
     "output_type": "stream",
     "text": [
      "Epoch 0 -- 0.311211\n",
      "Epoch 10 -- 0.178968\n",
      "Epoch 20 -- 0.137678\n",
      "Epoch 30 -- 0.117203\n",
      "Epoch 40 -- 0.104800\n",
      "Epoch 50 -- 0.096401\n",
      "Epoch 60 -- 0.090298\n",
      "Epoch 70 -- 0.085640\n",
      "Epoch 80 -- 0.081956\n",
      "Epoch 90 -- 0.078961\n"
     ]
    }
   ],
   "source": [
    "a = torch.randn(1, requires_grad=True)\n",
    "b = torch.randn(1, requires_grad=True)\n",
    "lr = 0.001\n",
    "\n",
    "for epoch in range(100):\n",
    "    logits = a + b * train_X\n",
    "    loss = cross_entropy_with_logits(logits, train_y)\n",
    "    loss.backward()\n",
    "\n",
    "    with torch.no_grad():\n",
    "        a -= lr * a.grad\n",
    "        b -= lr * b.grad\n",
    "\n",
    "        a.grad.zero_()\n",
    "        b.grad.zero_()\n",
    "\n",
    "    if epoch % 10 == 0:\n",
    "        print(f\"Epoch {epoch} -- {loss.item():.6f}\")"
   ]
  },
  {
   "cell_type": "code",
   "execution_count": 19,
   "metadata": {},
   "outputs": [
    {
     "name": "stdout",
     "output_type": "stream",
     "text": [
      "a: tensor([-4.1591], requires_grad=True), b: tensor([2.2001], requires_grad=True)\n"
     ]
    }
   ],
   "source": [
    "print(f\"a: {a}, b: {b}\")"
   ]
  },
  {
   "cell_type": "code",
   "execution_count": 20,
   "metadata": {},
   "outputs": [
    {
     "data": {
      "image/png": "[encoded data removed]",
      "text/plain": [
       "<Figure size 432x288 with 1 Axes>"
      ]
     },
     "metadata": {
      "needs_background": "light"
     },
     "output_type": "display_data"
    }
   ],
   "source": [
    "db_x = np.linspace(-4, 8, 121)\n",
    "db_y = a.detach().numpy() + b.detach().numpy() * db_x\n",
    "db_y = 1 / (1 + np.exp(-db_y))\n",
    "plt.plot(db_x, db_y)\n",
    "\n",
    "c = np.where(a + b * train_X > 0.0, 1, 0)\n",
    "plt.scatter(train_X, train_y, c=c)\n",
    "plt.show()"
   ]
  }
 ],
 "metadata": {
  "kernelspec": {
   "display_name": "Python 3.9.12 ('Deep')",
   "language": "python",
   "name": "python3"
  },
  "language_info": {
   "codemirror_mode": {
    "name": "ipython",
    "version": 3
   },
   "file_extension": ".py",
   "mimetype": "text/x-python",
   "name": "python",
   "nbconvert_exporter": "python",
   "pygments_lexer": "ipython3",
   "version": "3.9.12"
  },
  "orig_nbformat": 4,
  "vscode": {
   "interpreter": {
    "hash": "74cb2441972c5e2ce4d81cf164d964ef294956299a0f54ad32355ca0ab9e0fa7"
   }
  }
 },
 "nbformat": 4,
 "nbformat_minor": 2
}
